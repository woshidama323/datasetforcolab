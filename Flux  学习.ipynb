{
 "cells": [
  {
   "cell_type": "markdown",
   "metadata": {},
   "source": [
    "### julia的flux学习\n",
    "\n",
    "1. 建立模型\n",
    "\n",
    "gradient 函数的作用是什么？ 后面的[1] 作用\n",
    "\n",
    "材料\n",
    " https://juliaacademy.com/courses/526449/lectures/9600470\n"
   ]
  },
  {
   "cell_type": "code",
   "execution_count": 18,
   "metadata": {},
   "outputs": [],
   "source": [
    "using Flux\n",
    "f(x) = 3x^2 + 2x + 1\n",
    "gradient(f,1)[1]\n",
    "# g(x) = gradient(f,x)[1]; #这里的【1】是什么意思 ？求一阶导数？g(x) = 6x + 2\n",
    "# g(2) # 6*2 +2 = 14\n",
    "# d2f(x) = gradient(g,x)[1]; #d2f相当于 6 \n",
    "\n",
    "# d2f(2)\n",
    "# d2f(1)\n"
   ]
  },
  {
   "cell_type": "markdown",
   "metadata": {},
   "source": [
    "2. 理解gradient的意义\n",
    "\n",
    "在第一个例子中，是对一个函数求导数\n",
    "按照这个推理，是不是说多个变量的gradient就是求其偏导数\n"
   ]
  },
  {
   "cell_type": "code",
   "execution_count": 41,
   "metadata": {},
   "outputs": [
    {
     "name": "stdout",
     "output_type": "stream",
     "text": [
      "f = f\n",
      "gx(1) = 8\n",
      "gx(2) = 14\n"
     ]
    },
    {
     "data": {
      "text/plain": [
       "14"
      ]
     },
     "execution_count": 41,
     "metadata": {},
     "output_type": "execute_result"
    }
   ],
   "source": [
    "using Flux \n",
    "f(x,y) = sum((x .- y).^2) \n",
    "\n",
    "#gradient(函数名，参数1，参数2) 其中参数1和参数2均可为数组\n",
    "gx(x) = gradient(f,x)[1]\n",
    "@show gx(1)\n",
    "@show gx(2)\n"
   ]
  },
  {
   "cell_type": "code",
   "execution_count": 20,
   "metadata": {},
   "outputs": [],
   "source": [
    "Flux.@functor Dense"
   ]
  },
  {
   "cell_type": "code",
   "execution_count": 42,
   "metadata": {},
   "outputs": [
    {
     "ename": "UndefVarError",
     "evalue": "UndefVarError: x2 not defined",
     "output_type": "error",
     "traceback": [
      "UndefVarError: x2 not defined",
      "",
      "Stacktrace:",
      " [1] top-level scope at In[42]:1"
     ]
    }
   ],
   "source": [
    "x2 + y2 -2xy\n"
   ]
  },
  {
   "cell_type": "code",
   "execution_count": 45,
   "metadata": {},
   "outputs": [
    {
     "name": "stdout",
     "output_type": "stream",
     "text": [
      "seq = Array{Float64,1}[[0.381372060711046, 0.816380360611408, 0.01655092055924845, 0.21026626266342574, 0.7670849221412528, 0.46744254993765755, 0.04394772042002826, 0.9092478311422414, 0.995316260051236, 0.1837997747945821], [0.07609756259927836, 0.4232619355433833, 0.15022086530278966, 0.3383820104417221, 0.3965903514031257, 0.5667708862460772, 0.21195076582431582, 0.4253902433187151, 0.3381075079897875, 0.928798257711952], [0.4507948043329968, 0.8650746550246291, 0.6966845627285072, 0.7856876514353166, 0.6312506220617398, 0.01743442891761071, 0.9860318807948729, 0.6219462005288363, 0.6536792296947711, 0.21142735825722325], [0.5622493229248637, 0.3477523227482069, 0.3444532915726528, 0.7716638116221068, 0.05454244316598267, 0.23408345891466653, 0.008052404776574429, 0.12730417865138355, 0.12198969333702325, 0.6584731921988827], [0.8436991775089784, 0.411394005062232, 0.4774525199546966, 0.21302284565193919, 0.7475876937982617, 0.515252816556891, 0.5311254525176627, 0.40175480461149915, 0.026148966201715362, 0.12218404277961081], [0.349950731695976, 0.660254232721597, 0.3641926407293463, 0.7020688864218729, 0.5249194082150377, 0.8280186477499818, 0.1439808976680672, 0.602626181444377, 0.6306951521828343, 0.6440434162446096], [0.9658694408685751, 0.7099663543090944, 0.43364978356413, 0.21407803059179886, 0.8076461477295354, 0.6030014420979439, 0.13878028790319652, 0.23324768934355178, 0.1806115642318209, 0.5074509720956246], [0.37922696904058895, 0.9889203649804377, 0.36360256926201284, 0.932067035895074, 0.974541078553935, 0.14739782833009696, 0.35338398899659995, 0.021718313808895218, 0.6524182935222633, 0.126737197407764], [0.5139030021504294, 0.837373403011173, 0.29589400779754893, 0.4960319449660735, 0.858165335505159, 0.8368675414801532, 0.6637087040817342, 0.1496112561894365, 0.872419410392155, 0.7903514340705864], [0.5562594123495306, 0.5255503886293151, 0.9821817802019879, 0.08809264772882508, 0.2809414157444945, 0.11313558773096255, 0.2816324134416692, 0.22166524572008806, 0.1467136124498023, 0.31487618874964696]]\n"
     ]
    },
    {
     "data": {
      "text/plain": [
       "10-element Array{Array{Float64,1},1}:\n",
       " [0.381372060711046, 0.816380360611408, 0.01655092055924845, 0.21026626266342574, 0.7670849221412528, 0.46744254993765755, 0.04394772042002826, 0.9092478311422414, 0.995316260051236, 0.1837997747945821]     \n",
       " [0.07609756259927836, 0.4232619355433833, 0.15022086530278966, 0.3383820104417221, 0.3965903514031257, 0.5667708862460772, 0.21195076582431582, 0.4253902433187151, 0.3381075079897875, 0.928798257711952]    \n",
       " [0.4507948043329968, 0.8650746550246291, 0.6966845627285072, 0.7856876514353166, 0.6312506220617398, 0.01743442891761071, 0.9860318807948729, 0.6219462005288363, 0.6536792296947711, 0.21142735825722325]    \n",
       " [0.5622493229248637, 0.3477523227482069, 0.3444532915726528, 0.7716638116221068, 0.05454244316598267, 0.23408345891466653, 0.008052404776574429, 0.12730417865138355, 0.12198969333702325, 0.6584731921988827]\n",
       " [0.8436991775089784, 0.411394005062232, 0.4774525199546966, 0.21302284565193919, 0.7475876937982617, 0.515252816556891, 0.5311254525176627, 0.40175480461149915, 0.026148966201715362, 0.12218404277961081]   \n",
       " [0.349950731695976, 0.660254232721597, 0.3641926407293463, 0.7020688864218729, 0.5249194082150377, 0.8280186477499818, 0.1439808976680672, 0.602626181444377, 0.6306951521828343, 0.6440434162446096]         \n",
       " [0.9658694408685751, 0.7099663543090944, 0.43364978356413, 0.21407803059179886, 0.8076461477295354, 0.6030014420979439, 0.13878028790319652, 0.23324768934355178, 0.1806115642318209, 0.5074509720956246]     \n",
       " [0.37922696904058895, 0.9889203649804377, 0.36360256926201284, 0.932067035895074, 0.974541078553935, 0.14739782833009696, 0.35338398899659995, 0.021718313808895218, 0.6524182935222633, 0.126737197407764]   \n",
       " [0.5139030021504294, 0.837373403011173, 0.29589400779754893, 0.4960319449660735, 0.858165335505159, 0.8368675414801532, 0.6637087040817342, 0.1496112561894365, 0.872419410392155, 0.7903514340705864]        \n",
       " [0.5562594123495306, 0.5255503886293151, 0.9821817802019879, 0.08809264772882508, 0.2809414157444945, 0.11313558773096255, 0.2816324134416692, 0.22166524572008806, 0.1467136124498023, 0.31487618874964696]  "
      ]
     },
     "execution_count": 45,
     "metadata": {},
     "output_type": "execute_result"
    }
   ],
   "source": [
    "using Flux\n",
    "\n",
    "seq = [ rand(10) for i in 1:10]\n",
    "@show seq\n",
    "\n",
    "# Wxh = randn(5, 10)"
   ]
  },
  {
   "cell_type": "markdown",
   "metadata": {},
   "source": [
    "标签\n",
    "\n",
    "https://juliaacademy.com/courses/526449/lectures/9600470\n",
    "\n"
   ]
  },
  {
   "cell_type": "code",
   "execution_count": 46,
   "metadata": {},
   "outputs": [],
   "source": [
    "using Flux , Plots\n"
   ]
  },
  {
   "cell_type": "code",
   "execution_count": 47,
   "metadata": {},
   "outputs": [
    {
     "name": "stdout",
     "output_type": "stream",
     "text": [
      "\"\u001b[36mσ\u001b[39m\" can be typed by \u001b[36m\\sigma<tab>\u001b[39m\n",
      "\n",
      "search: \u001b[0m\u001b[1mσ\u001b[22m log\u001b[0m\u001b[1mσ\u001b[22m\n",
      "\n"
     ]
    },
    {
     "data": {
      "text/latex": [
       "\\begin{verbatim}\n",
       "σ(x) = 1 / (1 + exp(-x))\n",
       "\\end{verbatim}\n",
       "Classic \\href{https://en.wikipedia.org/wiki/Sigmoid_function}{sigmoid} activation function.\n",
       "\n"
      ],
      "text/markdown": [
       "```\n",
       "σ(x) = 1 / (1 + exp(-x))\n",
       "```\n",
       "\n",
       "Classic [sigmoid](https://en.wikipedia.org/wiki/Sigmoid_function) activation function.\n"
      ],
      "text/plain": [
       "\u001b[36m  σ(x) = 1 / (1 + exp(-x))\u001b[39m\n",
       "\n",
       "  Classic sigmoid (https://en.wikipedia.org/wiki/Sigmoid_function) activation\n",
       "  function."
      ]
     },
     "execution_count": 47,
     "metadata": {},
     "output_type": "execute_result"
    }
   ],
   "source": [
    "?σ"
   ]
  },
  {
   "cell_type": "code",
   "execution_count": 48,
   "metadata": {},
   "outputs": [
    {
     "data": {
      "text/html": [
       "# 1 method for generic function <b>mse</b>:<ul><li> mse(ŷ, y) in Flux at <a href=\"file:///Users/mk/.julia/packages/Flux/2i5P1/src/layers/stateless.jl\" target=\"_blank\">/Users/mk/.julia/packages/Flux/2i5P1/src/layers/stateless.jl:6</a></li> </ul>"
      ],
      "text/plain": [
       "# 1 method for generic function \"mse\":\n",
       "[1] mse(ŷ, y) in Flux at /Users/mk/.julia/packages/Flux/2i5P1/src/layers/stateless.jl:6"
      ]
     },
     "execution_count": 48,
     "metadata": {},
     "output_type": "execute_result"
    }
   ],
   "source": [
    "methods(Flux.mse)"
   ]
  },
  {
   "cell_type": "code",
   "execution_count": 49,
   "metadata": {},
   "outputs": [
    {
     "ename": "ArgumentError",
     "evalue": "ArgumentError: Package interact not found in current path:\n- Run `import Pkg; Pkg.add(\"interact\")` to install the interact package.\n",
     "output_type": "error",
     "traceback": [
      "ArgumentError: Package interact not found in current path:\n- Run `import Pkg; Pkg.add(\"interact\")` to install the interact package.\n",
      "",
      "Stacktrace:",
      " [1] require(::Module, ::Symbol) at ./loading.jl:887",
      " [2] top-level scope at In[49]:1"
     ]
    }
   ],
   "source": [
    "using Interact , Plots\n"
   ]
  },
  {
   "cell_type": "code",
   "execution_count": null,
   "metadata": {},
   "outputs": [],
   "source": []
  }
 ],
 "metadata": {
  "kernelspec": {
   "display_name": "Julia 1.3.0",
   "language": "julia",
   "name": "julia-1.3"
  },
  "language_info": {
   "file_extension": ".jl",
   "mimetype": "application/julia",
   "name": "julia",
   "version": "1.3.0"
  }
 },
 "nbformat": 4,
 "nbformat_minor": 2
}
