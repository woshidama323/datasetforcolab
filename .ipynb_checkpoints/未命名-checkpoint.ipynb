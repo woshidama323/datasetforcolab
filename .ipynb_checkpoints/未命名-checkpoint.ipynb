{
 "cells": [
  {
   "cell_type": "markdown",
   "metadata": {},
   "source": [
    "## 如何利用julia计算出来 etc的最佳逃逸方案\n",
    "\n",
    "1. 当前价格浮动，进入价格10.6\n",
    "\n",
    "2. 假设：每隔一个固定的区间购买一定数量的etc 放入不同的场景。\n",
    "\n",
    "+ 价格持续下跌：\n",
    "\n",
    "+ 震荡下跌\n",
    "\n",
    "+ 震荡持平\n",
    "\n",
    "+ 震荡上涨\n",
    "\n",
    "+ 持续上涨\n",
    "\n",
    "\n",
    "\n"
   ]
  },
  {
   "cell_type": "code",
   "execution_count": 26,
   "metadata": {},
   "outputs": [
    {
     "ename": "ArgumentError",
     "evalue": "ArgumentError: Package PyPlot not found in current path:\n- Run `import Pkg; Pkg.add(\"PyPlot\")` to install the PyPlot package.\n",
     "output_type": "error",
     "traceback": [
      "ArgumentError: Package PyPlot not found in current path:\n- Run `import Pkg; Pkg.add(\"PyPlot\")` to install the PyPlot package.\n",
      "",
      "Stacktrace:",
      " [1] require(::Module, ::Symbol) at ./loading.jl:887",
      " [2] top-level scope at In[26]:1"
     ]
    }
   ],
   "source": [
    "using Plots,PyPlot\n",
    "\n",
    "# x=1:100\n",
    "# y=rand(100)\n",
    "\n",
    "# plot(x,y)\n",
    "\n",
    "init = 10.631\n",
    "\n",
    "currentprice = 8.392\n",
    "\n",
    "yx = [(10.631 * 7000 + y * x) / (7000.0 + x) for x = 1:1000, y = 1:1000]\n",
    "\n",
    "\n",
    "\n",
    "plot(1:1000,yx)\n",
    "\n",
    "plot_surface(1:1000, 1:1000, yx, rstride=2,edgecolors=\"k\", cstride=2, cmap=ColorMap(\"gray\"), alpha=0.8, linewidth=0.25)"
   ]
  },
  {
   "cell_type": "code",
   "execution_count": 25,
   "metadata": {},
   "outputs": [
    {
     "name": "stdout",
     "output_type": "stream",
     "text": [
      "\u001b[32m\u001b[1m  Updating\u001b[22m\u001b[39m registry at `~/.julia/registries/General`\n",
      "\u001b[32m\u001b[1m  Updating\u001b[22m\u001b[39m git-repo `https://github.com/JuliaRegistries/General.git`\n",
      "\u001b[2K\u001b[?25h[1mFetching:\u001b[22m\u001b[39m [====>                                    ]  9.6 % 0.0 %"
     ]
    },
    {
     "ename": "InterruptException",
     "evalue": "InterruptException:",
     "output_type": "error",
     "traceback": [
      "InterruptException:",
      "",
      "Stacktrace:",
      " [1] unsafe_string at ./strings/string.jl:57 [inlined]",
      " [2] last_error at /Users/sabae/buildbot/worker/package_macos64/build/usr/share/julia/stdlib/v1.3/LibGit2/src/error.jl:81 [inlined]",
      " [3] GitError at /Users/sabae/buildbot/worker/package_macos64/build/usr/share/julia/stdlib/v1.3/LibGit2/src/error.jl:91 [inlined]",
      " [4] macro expansion at /Users/sabae/buildbot/worker/package_macos64/build/usr/share/julia/stdlib/v1.3/LibGit2/src/error.jl:101 [inlined]",
      " [5] #fetch#62(::LibGit2.FetchOptions, ::String, ::typeof(LibGit2.fetch), ::LibGit2.GitRemote, ::Array{String,1}) at /Users/sabae/buildbot/worker/package_macos64/build/usr/share/julia/stdlib/v1.3/LibGit2/src/remote.jl:299",
      " [6] #fetch at ./none:0 [inlined]",
      " [7] #fetch#115(::String, ::String, ::Array{String,1}, ::Nothing, ::Dict{Symbol,Tuple{Ptr{Nothing},Any}}, ::typeof(LibGit2.fetch), ::LibGit2.GitRepo) at /Users/sabae/buildbot/worker/package_macos64/build/usr/share/julia/stdlib/v1.3/LibGit2/src/LibGit2.jl:290",
      " [8] (::LibGit2.var\"#kw##fetch\")(::NamedTuple{(:remoteurl, :callbacks, :refspecs),Tuple{String,Dict{Symbol,Tuple{Ptr{Nothing},Any}},Array{String,1}}}, ::typeof(LibGit2.fetch), ::LibGit2.GitRepo) at ./none:0",
      " [9] #fetch#5(::Nothing, ::Base.Iterators.Pairs{Symbol,Array{String,1},Tuple{Symbol},NamedTuple{(:refspecs,),Tuple{Array{String,1}}}}, ::typeof(Pkg.GitTools.fetch), ::LibGit2.GitRepo, ::Nothing) at /Users/sabae/buildbot/worker/package_macos64/build/usr/share/julia/stdlib/v1.3/Pkg/src/GitTools.jl:156",
      " [10] #update_registries#133(::Bool, ::typeof(Pkg.Types.update_registries), ::Pkg.Types.Context, ::Array{Pkg.Types.RegistrySpec,1}) at ./none:0",
      " [11] update_registries at /Users/sabae/buildbot/worker/package_macos64/build/usr/share/julia/stdlib/v1.3/Pkg/src/Types.jl:1137 [inlined] (repeats 2 times)",
      " [12] #add#25(::Bool, ::Pkg.BinaryPlatforms.MacOS, ::Base.Iterators.Pairs{Union{},Union{},Tuple{},NamedTuple{(),Tuple{}}}, ::typeof(Pkg.API.add), ::Pkg.Types.Context, ::Array{Pkg.Types.PackageSpec,1}) at /Users/sabae/buildbot/worker/package_macos64/build/usr/share/julia/stdlib/v1.3/Pkg/src/API.jl:87",
      " [13] add(::Pkg.Types.Context, ::Array{Pkg.Types.PackageSpec,1}) at /Users/sabae/buildbot/worker/package_macos64/build/usr/share/julia/stdlib/v1.3/Pkg/src/API.jl:72",
      " [14] #add#24 at /Users/sabae/buildbot/worker/package_macos64/build/usr/share/julia/stdlib/v1.3/Pkg/src/API.jl:69 [inlined]",
      " [15] add at /Users/sabae/buildbot/worker/package_macos64/build/usr/share/julia/stdlib/v1.3/Pkg/src/API.jl:69 [inlined]",
      " [16] #add#21 at /Users/sabae/buildbot/worker/package_macos64/build/usr/share/julia/stdlib/v1.3/Pkg/src/API.jl:67 [inlined]",
      " [17] add at /Users/sabae/buildbot/worker/package_macos64/build/usr/share/julia/stdlib/v1.3/Pkg/src/API.jl:67 [inlined]",
      " [18] #add#20(::Base.Iterators.Pairs{Union{},Union{},Tuple{},NamedTuple{(),Tuple{}}}, ::typeof(Pkg.API.add), ::String) at /Users/sabae/buildbot/worker/package_macos64/build/usr/share/julia/stdlib/v1.3/Pkg/src/API.jl:66",
      " [19] add(::String) at /Users/sabae/buildbot/worker/package_macos64/build/usr/share/julia/stdlib/v1.3/Pkg/src/API.jl:66",
      " [20] top-level scope at In[25]:1"
     ]
    }
   ],
   "source": [
    "import Pkg; Pkg.add(\"PyPlot\")"
   ]
  },
  {
   "cell_type": "code",
   "execution_count": null,
   "metadata": {},
   "outputs": [],
   "source": [
    "uusing Interact, Plotsusing Interact, Plots\n",
    "## Interact.WebIO.install_jupyter_nbextension() # might be helpful if you see `WebIO` warnings in Jupyter\n",
    "@manipulate throttle=.05 for λ=0:.1:5, μ=0:.1:5\n",
    "    xs = range(0.0, 1.0, length = 100)\n",
    "    Plots.plot(xs, x -> λ*x^2 + μ)\n",
    "end\n",
    "## Interact.WebIO.install_jupyter_nbextension() # might be helpful if you see `WebIO` warnings in Jupyter\n",
    "@manipulate throttle=.05 for λ=0:.1:5, μ=0:.1:5\n",
    "    xs = range(0.0, 1.0, length = 100)\n",
    "    Plots.plot(xs, x -> λ*x^2 + μ)\n",
    "endusing Interact, Plots\n",
    "## Interact.WebIO.install_jupyter_nbextension() # might be helpful if you see `WebIO` warnings in Jupyter\n",
    "@manipulate throttle=.05 for λ=0:.1:5, μ=0:.1:5\n",
    "    xs = range(0.0, 1.0, length = 100)\n",
    "    Plots.plot(xs, x -> λ*x^2 + μ)\n",
    "endusing Interact, Plots\n",
    "## Interact.WebIO.install_jupyter_nbextension() # might be helpful if you see `WebIO` warnings in Jupyter\n",
    "@manipulate throttle=.05 for λ=0:.1:5, μ=0:.1:5\n",
    "    xs = range(0.0, 1.0, length = 100)\n",
    "    Plots.plot(xs, x -> λ*x^2 + μ)\n",
    "end## Interact.WebIO.install_jupyter_nbextension() # might be helpful if you see `WebIO` warnings in Jupyter\n",
    "@manipulate throttle=.05 for λ=0:.1:5, μ=0:.1:5\n",
    "    xs = range(0.0, 1.0, length = 100)\n",
    "    Plots.plot(xs, x -> λ*x^2 + μ)\n",
    "endusing Interact, Plots\n",
    "## Interact.WebIO.install_jupyter_nbextension() # might be helpful if you see `WebIO` warnings in Jupyter\n",
    "@manipulate throttle=.05 for λ=0:.1:5, μ=0:.1:5\n",
    "    xs = range(0.0, 1.0, length = 100)\n",
    "    Plots.plot(xs, x -> λ*x^2 + μ)\n",
    "end"
   ]
  }
 ],
 "metadata": {
  "kernelspec": {
   "display_name": "Julia 1.3.0",
   "language": "julia",
   "name": "julia-1.3"
  },
  "language_info": {
   "file_extension": ".jl",
   "mimetype": "application/julia",
   "name": "julia",
   "version": "1.3.0"
  }
 },
 "nbformat": 4,
 "nbformat_minor": 2
}
