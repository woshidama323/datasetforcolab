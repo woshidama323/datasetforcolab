{
 "cells": [
  {
   "cell_type": "markdown",
   "metadata": {},
   "source": [
    "### julia的flux学习\n",
    "\n",
    "1. 建立模型\n",
    "\n",
    "gradient 函数的作用是什么？ 后面的[1] 作用\n"
   ]
  },
  {
   "cell_type": "code",
   "execution_count": 15,
   "metadata": {},
   "outputs": [
    {
     "data": {
      "text/plain": [
       "6"
      ]
     },
     "execution_count": 15,
     "metadata": {},
     "output_type": "execute_result"
    }
   ],
   "source": [
    "using Flux\n",
    "f(x) = 3x^2 + 2x + 1\n",
    "gradient(f,1)\n",
    "# g(x) = gradient(f,x)[1]; #这里的【1】是什么意思 ？求一阶导数？g(x) = 6x + 2\n",
    "# g(2) # 6*2 +2 = 14\n",
    "# d2f(x) = gradient(g,x)[1]; #d2f相当于 6 \n",
    "\n",
    "# d2f(2)\n",
    "# d2f(1)\n"
   ]
  },
  {
   "cell_type": "markdown",
   "metadata": {},
   "source": [
    "2. 理解gradient的意义\n"
   ]
  },
  {
   "cell_type": "code",
   "execution_count": 14,
   "metadata": {},
   "outputs": [
    {
     "data": {
      "text/plain": [
       "([-2, -2], [2, 2])"
      ]
     },
     "execution_count": 14,
     "metadata": {},
     "output_type": "execute_result"
    }
   ],
   "source": [
    "using Flux \n",
    "f(x,y) = sum((x .- y).^2) \n",
    "\n",
    "#gradient(函数名，参数1，参数2) 其中参数1和参数2均可为数组\n",
    "gradient(f,[2,1],[3,2])"
   ]
  },
  {
   "cell_type": "code",
   "execution_count": null,
   "metadata": {},
   "outputs": [],
   "source": []
  }
 ],
 "metadata": {
  "kernelspec": {
   "display_name": "Julia 1.3.0",
   "language": "julia",
   "name": "julia-1.3"
  },
  "language_info": {
   "file_extension": ".jl",
   "mimetype": "application/julia",
   "name": "julia",
   "version": "1.3.0"
  }
 },
 "nbformat": 4,
 "nbformat_minor": 2
}
